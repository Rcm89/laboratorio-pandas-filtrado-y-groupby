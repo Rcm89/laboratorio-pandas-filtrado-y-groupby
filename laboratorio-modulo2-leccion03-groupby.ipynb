{
 "cells": [
  {
   "cell_type": "markdown",
   "id": "0e4a0473",
   "metadata": {},
   "source": [
    "<div style=\"text-align: center;\">\n",
    "  <img src=\"https://github.com/Hack-io-Data/Imagenes/blob/main/01-LogosHackio/logo_naranja@4x.png?raw=true\" alt=\"esquema\" />\n",
    "</div>"
   ]
  },
  {
   "cell_type": "markdown",
   "id": "8d36bc20",
   "metadata": {},
   "source": [
    "# Laboratorio Agrupamiento de Datos\n",
    "\n",
    "En este laboratorio usaremos el DataFrame creado en la lección anterior resultado de la unión de los conjuntos de datos compartidos contigo. \n",
    "\n",
    "**Instrucciones:**\n",
    "\n",
    "1. Lee cuidadosamente el enunciado de cada ejercicio.\n",
    "\n",
    "2. Implementa la solución en la celda de código proporcionada.\n",
    "\n",
    "3. Devuelve los resultados siempre en formato de DataFrame"
   ]
  },
  {
   "cell_type": "code",
   "execution_count": 1,
   "id": "8651468f",
   "metadata": {},
   "outputs": [
    {
     "data": {
      "text/html": [
       "<div>\n",
       "<style scoped>\n",
       "    .dataframe tbody tr th:only-of-type {\n",
       "        vertical-align: middle;\n",
       "    }\n",
       "\n",
       "    .dataframe tbody tr th {\n",
       "        vertical-align: top;\n",
       "    }\n",
       "\n",
       "    .dataframe thead th {\n",
       "        text-align: right;\n",
       "    }\n",
       "</style>\n",
       "<table border=\"1\" class=\"dataframe\">\n",
       "  <thead>\n",
       "    <tr style=\"text-align: right;\">\n",
       "      <th></th>\n",
       "      <th>Unnamed: 0</th>\n",
       "      <th>Title</th>\n",
       "      <th>Genre</th>\n",
       "      <th>Premiere</th>\n",
       "      <th>Runtime</th>\n",
       "      <th>IMDB Score</th>\n",
       "      <th>Language</th>\n",
       "      <th>show_id</th>\n",
       "      <th>type</th>\n",
       "      <th>title</th>\n",
       "      <th>director</th>\n",
       "      <th>cast</th>\n",
       "      <th>country</th>\n",
       "      <th>date_added</th>\n",
       "      <th>release_year</th>\n",
       "      <th>rating</th>\n",
       "      <th>duration</th>\n",
       "      <th>listed_in</th>\n",
       "      <th>description</th>\n",
       "    </tr>\n",
       "  </thead>\n",
       "  <tbody>\n",
       "    <tr>\n",
       "      <th>0</th>\n",
       "      <td>0</td>\n",
       "      <td>Enter the Anime</td>\n",
       "      <td>Documentary</td>\n",
       "      <td>August 5, 2019</td>\n",
       "      <td>58</td>\n",
       "      <td>2.5</td>\n",
       "      <td>English/Japanese</td>\n",
       "      <td>s3624</td>\n",
       "      <td>Movie</td>\n",
       "      <td>Enter the Anime</td>\n",
       "      <td>Alex Burunova</td>\n",
       "      <td>Kozo Morishita, Yoko Takahashi, Shinji Aramaki...</td>\n",
       "      <td>United States, Japan</td>\n",
       "      <td>August 5, 2019</td>\n",
       "      <td>2019</td>\n",
       "      <td>TV-MA</td>\n",
       "      <td>59 min</td>\n",
       "      <td>Documentaries, International Movies</td>\n",
       "      <td>What is anime? Through deep-dives with notable...</td>\n",
       "    </tr>\n",
       "    <tr>\n",
       "      <th>1</th>\n",
       "      <td>1</td>\n",
       "      <td>Dark Forces</td>\n",
       "      <td>Thriller</td>\n",
       "      <td>August 21, 2020</td>\n",
       "      <td>81</td>\n",
       "      <td>2.6</td>\n",
       "      <td>Spanish</td>\n",
       "      <td>s2105</td>\n",
       "      <td>Movie</td>\n",
       "      <td>Dark Forces</td>\n",
       "      <td>Bernardo Arellano</td>\n",
       "      <td>Tenoch Huerta, Eréndira Ibarra, Dale Carley, A...</td>\n",
       "      <td>Mexico</td>\n",
       "      <td>August 21, 2020</td>\n",
       "      <td>2020</td>\n",
       "      <td>TV-MA</td>\n",
       "      <td>81 min</td>\n",
       "      <td>Horror Movies, Independent Movies, Internation...</td>\n",
       "      <td>In search of his sister, a renegade criminal s...</td>\n",
       "    </tr>\n",
       "    <tr>\n",
       "      <th>2</th>\n",
       "      <td>2</td>\n",
       "      <td>The App</td>\n",
       "      <td>Science fiction/Drama</td>\n",
       "      <td>December 26, 2019</td>\n",
       "      <td>79</td>\n",
       "      <td>2.6</td>\n",
       "      <td>Italian</td>\n",
       "      <td>s3095</td>\n",
       "      <td>Movie</td>\n",
       "      <td>The App</td>\n",
       "      <td>Elisa Fuksas</td>\n",
       "      <td>Vincenzo Crea, Jessica Cressy, Greta Scarano, ...</td>\n",
       "      <td>Italy</td>\n",
       "      <td>December 26, 2019</td>\n",
       "      <td>2019</td>\n",
       "      <td>TV-MA</td>\n",
       "      <td>79 min</td>\n",
       "      <td>Dramas, Independent Movies, International Movies</td>\n",
       "      <td>While in Rome to shoot his first movie, actor ...</td>\n",
       "    </tr>\n",
       "    <tr>\n",
       "      <th>3</th>\n",
       "      <td>3</td>\n",
       "      <td>The Open House</td>\n",
       "      <td>Horror thriller</td>\n",
       "      <td>January 19, 2018</td>\n",
       "      <td>94</td>\n",
       "      <td>3.2</td>\n",
       "      <td>English</td>\n",
       "      <td>s5074</td>\n",
       "      <td>Movie</td>\n",
       "      <td>The Open House</td>\n",
       "      <td>Matt Angel, Suzanne Coote</td>\n",
       "      <td>Dylan Minnette, Piercey Dalton, Patricia Bethu...</td>\n",
       "      <td>Canada, United States</td>\n",
       "      <td>January 19, 2018</td>\n",
       "      <td>2018</td>\n",
       "      <td>TV-MA</td>\n",
       "      <td>NaN</td>\n",
       "      <td>Horror Movies, Thrillers</td>\n",
       "      <td>Following a tragedy, a mother and her teen son...</td>\n",
       "    </tr>\n",
       "    <tr>\n",
       "      <th>4</th>\n",
       "      <td>4</td>\n",
       "      <td>Kaali Khuhi</td>\n",
       "      <td>Mystery</td>\n",
       "      <td>October 30, 2020</td>\n",
       "      <td>90</td>\n",
       "      <td>3.4</td>\n",
       "      <td>Hindi</td>\n",
       "      <td>s1778</td>\n",
       "      <td>Movie</td>\n",
       "      <td>Kaali Khuhi</td>\n",
       "      <td>Terrie Samundra</td>\n",
       "      <td>Shabana Azmi, Leela Samson, Sanjeeda Sheikh, S...</td>\n",
       "      <td>India</td>\n",
       "      <td>October 30, 2020</td>\n",
       "      <td>2020</td>\n",
       "      <td>TV-14</td>\n",
       "      <td>NaN</td>\n",
       "      <td>Horror Movies, International Movies</td>\n",
       "      <td>When a restless spirit curses a village that h...</td>\n",
       "    </tr>\n",
       "  </tbody>\n",
       "</table>\n",
       "</div>"
      ],
      "text/plain": [
       "   Unnamed: 0            Title                  Genre           Premiere  \\\n",
       "0           0  Enter the Anime            Documentary     August 5, 2019   \n",
       "1           1      Dark Forces               Thriller    August 21, 2020   \n",
       "2           2          The App  Science fiction/Drama  December 26, 2019   \n",
       "3           3   The Open House        Horror thriller   January 19, 2018   \n",
       "4           4      Kaali Khuhi                Mystery   October 30, 2020   \n",
       "\n",
       "   Runtime  IMDB Score          Language show_id   type            title  \\\n",
       "0       58         2.5  English/Japanese   s3624  Movie  Enter the Anime   \n",
       "1       81         2.6           Spanish   s2105  Movie      Dark Forces   \n",
       "2       79         2.6           Italian   s3095  Movie          The App   \n",
       "3       94         3.2           English   s5074  Movie   The Open House   \n",
       "4       90         3.4             Hindi   s1778  Movie      Kaali Khuhi   \n",
       "\n",
       "                    director  \\\n",
       "0              Alex Burunova   \n",
       "1          Bernardo Arellano   \n",
       "2               Elisa Fuksas   \n",
       "3  Matt Angel, Suzanne Coote   \n",
       "4            Terrie Samundra   \n",
       "\n",
       "                                                cast                country  \\\n",
       "0  Kozo Morishita, Yoko Takahashi, Shinji Aramaki...   United States, Japan   \n",
       "1  Tenoch Huerta, Eréndira Ibarra, Dale Carley, A...                 Mexico   \n",
       "2  Vincenzo Crea, Jessica Cressy, Greta Scarano, ...                  Italy   \n",
       "3  Dylan Minnette, Piercey Dalton, Patricia Bethu...  Canada, United States   \n",
       "4  Shabana Azmi, Leela Samson, Sanjeeda Sheikh, S...                  India   \n",
       "\n",
       "          date_added  release_year rating duration  \\\n",
       "0     August 5, 2019          2019  TV-MA   59 min   \n",
       "1    August 21, 2020          2020  TV-MA   81 min   \n",
       "2  December 26, 2019          2019  TV-MA   79 min   \n",
       "3   January 19, 2018          2018  TV-MA      NaN   \n",
       "4   October 30, 2020          2020  TV-14      NaN   \n",
       "\n",
       "                                           listed_in  \\\n",
       "0                Documentaries, International Movies   \n",
       "1  Horror Movies, Independent Movies, Internation...   \n",
       "2   Dramas, Independent Movies, International Movies   \n",
       "3                           Horror Movies, Thrillers   \n",
       "4                Horror Movies, International Movies   \n",
       "\n",
       "                                         description  \n",
       "0  What is anime? Through deep-dives with notable...  \n",
       "1  In search of his sister, a renegade criminal s...  \n",
       "2  While in Rome to shoot his first movie, actor ...  \n",
       "3  Following a tragedy, a mother and her teen son...  \n",
       "4  When a restless spirit curses a village that h...  "
      ]
     },
     "execution_count": 1,
     "metadata": {},
     "output_type": "execute_result"
    }
   ],
   "source": [
    "# Carga el dataset de trabajo\n",
    "import pandas as pd\n",
    "import numpy as np\n",
    "\n",
    "df_Netflix = pd.read_csv (\"datos/netflix_merged.csv\")\n",
    "df_Netflix.head()"
   ]
  },
  {
   "cell_type": "markdown",
   "id": "cb06a7b4",
   "metadata": {},
   "source": [
    "#### Ejercicio 1: ¿Cuántos títulos hay por cada tipo de contenido ('Movie' o 'TV Show')?"
   ]
  },
  {
   "cell_type": "code",
   "execution_count": 13,
   "id": "60cb155f",
   "metadata": {},
   "outputs": [
    {
     "data": {
      "text/html": [
       "<div>\n",
       "<style scoped>\n",
       "    .dataframe tbody tr th:only-of-type {\n",
       "        vertical-align: middle;\n",
       "    }\n",
       "\n",
       "    .dataframe tbody tr th {\n",
       "        vertical-align: top;\n",
       "    }\n",
       "\n",
       "    .dataframe thead th {\n",
       "        text-align: right;\n",
       "    }\n",
       "</style>\n",
       "<table border=\"1\" class=\"dataframe\">\n",
       "  <thead>\n",
       "    <tr style=\"text-align: right;\">\n",
       "      <th></th>\n",
       "      <th>type</th>\n",
       "      <th>count</th>\n",
       "    </tr>\n",
       "  </thead>\n",
       "  <tbody>\n",
       "    <tr>\n",
       "      <th>0</th>\n",
       "      <td>Movie</td>\n",
       "      <td>513</td>\n",
       "    </tr>\n",
       "  </tbody>\n",
       "</table>\n",
       "</div>"
      ],
      "text/plain": [
       "    type  count\n",
       "0  Movie    513"
      ]
     },
     "execution_count": 13,
     "metadata": {},
     "output_type": "execute_result"
    }
   ],
   "source": [
    "df_ej = df_Netflix.groupby('type').size().reset_index(name='count')\n",
    "df_ej\n"
   ]
  },
  {
   "cell_type": "markdown",
   "id": "b956d726",
   "metadata": {},
   "source": [
    "#### Ejercicio 2: ¿Cuál es el promedio de puntuación de las películas agrupadas por clasificación de audiencia ('rating')? Interpreta los resultados, ¿hay algo que te llame la atención? Explica por qué. "
   ]
  },
  {
   "cell_type": "code",
   "execution_count": 10,
   "id": "54d6a4d0",
   "metadata": {},
   "outputs": [
    {
     "data": {
      "text/html": [
       "<div>\n",
       "<style scoped>\n",
       "    .dataframe tbody tr th:only-of-type {\n",
       "        vertical-align: middle;\n",
       "    }\n",
       "\n",
       "    .dataframe tbody tr th {\n",
       "        vertical-align: top;\n",
       "    }\n",
       "\n",
       "    .dataframe thead th {\n",
       "        text-align: right;\n",
       "    }\n",
       "</style>\n",
       "<table border=\"1\" class=\"dataframe\">\n",
       "  <thead>\n",
       "    <tr style=\"text-align: right;\">\n",
       "      <th></th>\n",
       "      <th>rating</th>\n",
       "      <th>IMDB Score</th>\n",
       "    </tr>\n",
       "  </thead>\n",
       "  <tbody>\n",
       "    <tr>\n",
       "      <th>0</th>\n",
       "      <td>G</td>\n",
       "      <td>6.500000</td>\n",
       "    </tr>\n",
       "    <tr>\n",
       "      <th>1</th>\n",
       "      <td>PG</td>\n",
       "      <td>6.800000</td>\n",
       "    </tr>\n",
       "    <tr>\n",
       "      <th>2</th>\n",
       "      <td>PG-13</td>\n",
       "      <td>6.386957</td>\n",
       "    </tr>\n",
       "    <tr>\n",
       "      <th>3</th>\n",
       "      <td>R</td>\n",
       "      <td>6.495745</td>\n",
       "    </tr>\n",
       "    <tr>\n",
       "      <th>4</th>\n",
       "      <td>TV-14</td>\n",
       "      <td>6.177660</td>\n",
       "    </tr>\n",
       "    <tr>\n",
       "      <th>5</th>\n",
       "      <td>TV-G</td>\n",
       "      <td>6.156250</td>\n",
       "    </tr>\n",
       "    <tr>\n",
       "      <th>6</th>\n",
       "      <td>TV-MA</td>\n",
       "      <td>6.097638</td>\n",
       "    </tr>\n",
       "    <tr>\n",
       "      <th>7</th>\n",
       "      <td>TV-PG</td>\n",
       "      <td>6.308772</td>\n",
       "    </tr>\n",
       "    <tr>\n",
       "      <th>8</th>\n",
       "      <td>TV-Y</td>\n",
       "      <td>6.780000</td>\n",
       "    </tr>\n",
       "    <tr>\n",
       "      <th>9</th>\n",
       "      <td>TV-Y7</td>\n",
       "      <td>6.240000</td>\n",
       "    </tr>\n",
       "  </tbody>\n",
       "</table>\n",
       "</div>"
      ],
      "text/plain": [
       "  rating  IMDB Score\n",
       "0      G    6.500000\n",
       "1     PG    6.800000\n",
       "2  PG-13    6.386957\n",
       "3      R    6.495745\n",
       "4  TV-14    6.177660\n",
       "5   TV-G    6.156250\n",
       "6  TV-MA    6.097638\n",
       "7  TV-PG    6.308772\n",
       "8   TV-Y    6.780000\n",
       "9  TV-Y7    6.240000"
      ]
     },
     "execution_count": 10,
     "metadata": {},
     "output_type": "execute_result"
    }
   ],
   "source": [
    "condicion = df_Netflix['type'] == 'Movie'\n",
    "df_calificacion = df_Netflix[condicion].groupby('rating')['IMDB Score']\n",
    "df_promedio = df_calificacion.mean().reset_index()\n",
    "df_promedio\n"
   ]
  },
  {
   "cell_type": "markdown",
   "id": "885b9b4e",
   "metadata": {},
   "source": [
    "Observamos que al agrupar las películas por clasificación de audiencia y rating se muestra que las películas con rating PG tienen una media mayor que 6.8, mientras que las de rating TV-14 tienen el promedio más bajo con 6.18. Tal vez esto indique que las peliculas PG dirigidas a un público más amplio y familiar tiedan a recibir mejor calificaciónque las de rating más restrictivo"
   ]
  },
  {
   "cell_type": "markdown",
   "id": "f236954f",
   "metadata": {},
   "source": [
    "#### Ejercicio 3: ¿Cuántos títulos hay por cada país? Ordena los resultados de mayor a menor"
   ]
  },
  {
   "cell_type": "code",
   "execution_count": 25,
   "id": "27ef580f",
   "metadata": {},
   "outputs": [
    {
     "data": {
      "text/html": [
       "<div>\n",
       "<style scoped>\n",
       "    .dataframe tbody tr th:only-of-type {\n",
       "        vertical-align: middle;\n",
       "    }\n",
       "\n",
       "    .dataframe tbody tr th {\n",
       "        vertical-align: top;\n",
       "    }\n",
       "\n",
       "    .dataframe thead th {\n",
       "        text-align: right;\n",
       "    }\n",
       "</style>\n",
       "<table border=\"1\" class=\"dataframe\">\n",
       "  <thead>\n",
       "    <tr style=\"text-align: right;\">\n",
       "      <th></th>\n",
       "      <th>country</th>\n",
       "      <th>count</th>\n",
       "    </tr>\n",
       "  </thead>\n",
       "  <tbody>\n",
       "    <tr>\n",
       "      <th>67</th>\n",
       "      <td>United States</td>\n",
       "      <td>274</td>\n",
       "    </tr>\n",
       "    <tr>\n",
       "      <th>22</th>\n",
       "      <td>India</td>\n",
       "      <td>35</td>\n",
       "    </tr>\n",
       "    <tr>\n",
       "      <th>59</th>\n",
       "      <td>United Kingdom</td>\n",
       "      <td>13</td>\n",
       "    </tr>\n",
       "    <tr>\n",
       "      <th>30</th>\n",
       "      <td>Italy</td>\n",
       "      <td>13</td>\n",
       "    </tr>\n",
       "    <tr>\n",
       "      <th>50</th>\n",
       "      <td>Spain</td>\n",
       "      <td>12</td>\n",
       "    </tr>\n",
       "    <tr>\n",
       "      <th>...</th>\n",
       "      <td>...</td>\n",
       "      <td>...</td>\n",
       "    </tr>\n",
       "    <tr>\n",
       "      <th>73</th>\n",
       "      <td>United States, Germany</td>\n",
       "      <td>1</td>\n",
       "    </tr>\n",
       "    <tr>\n",
       "      <th>75</th>\n",
       "      <td>United States, Japan</td>\n",
       "      <td>1</td>\n",
       "    </tr>\n",
       "    <tr>\n",
       "      <th>78</th>\n",
       "      <td>United States, United Kingdom, Canada</td>\n",
       "      <td>1</td>\n",
       "    </tr>\n",
       "    <tr>\n",
       "      <th>79</th>\n",
       "      <td>United States, United Kingdom, Germany</td>\n",
       "      <td>1</td>\n",
       "    </tr>\n",
       "    <tr>\n",
       "      <th>80</th>\n",
       "      <td>United States, United Kingdom, India</td>\n",
       "      <td>1</td>\n",
       "    </tr>\n",
       "  </tbody>\n",
       "</table>\n",
       "<p>81 rows × 2 columns</p>\n",
       "</div>"
      ],
      "text/plain": [
       "                                   country  count\n",
       "67                           United States    274\n",
       "22                                   India     35\n",
       "59                          United Kingdom     13\n",
       "30                                   Italy     13\n",
       "50                                   Spain     12\n",
       "..                                     ...    ...\n",
       "73                  United States, Germany      1\n",
       "75                    United States, Japan      1\n",
       "78   United States, United Kingdom, Canada      1\n",
       "79  United States, United Kingdom, Germany      1\n",
       "80    United States, United Kingdom, India      1\n",
       "\n",
       "[81 rows x 2 columns]"
      ]
     },
     "execution_count": 25,
     "metadata": {},
     "output_type": "execute_result"
    }
   ],
   "source": [
    "df_por_pais=df_Netflix.groupby('country')\n",
    "df_conteo_por_pais=df_por_pais.size().reset_index(name='count')\n",
    "df_conteo_por_pais_ordenado = df_conteo_por_pais.sort_values(by='count', ascending=False)\n",
    "df_conteo_por_pais_ordenado\n"
   ]
  },
  {
   "cell_type": "markdown",
   "id": "a49712a3",
   "metadata": {},
   "source": [
    "#### Ejercicio 4: ¿Cuál es la calificación promedio en IMDb de los títulos agrupados por tipo ('Movie' o 'TV Show')?"
   ]
  },
  {
   "cell_type": "code",
   "execution_count": null,
   "id": "564e953f",
   "metadata": {},
   "outputs": [],
   "source": []
  },
  {
   "cell_type": "markdown",
   "id": "4eac1036",
   "metadata": {},
   "source": [
    "#### Ejercicio 5: ¿Cuántos títulos se añadieron a Netflix cada año? Para resolver este ejercicio tendrás uqe convertir la columna `date_added` a formato fecha usando el método `pd.to_datetime`. [Aquí](https://pandas.pydata.org/docs/reference/api/pandas.to_datetime.html) tienes la documentación, leeala con detenimiento antes de usar el método. "
   ]
  },
  {
   "cell_type": "code",
   "execution_count": null,
   "id": "304cc8a0",
   "metadata": {},
   "outputs": [],
   "source": []
  },
  {
   "cell_type": "markdown",
   "id": "ddd1d9b9",
   "metadata": {},
   "source": [
    "#### Ejercicio 6: ¿Cuál es el país con más títulos lanzados en el año 2020? Para resolver este ejercicio después del gropuby os puede resultar interesante el método [`idxmax`](https://pandas.pydata.org/docs/reference/api/pandas.DataFrame.idxmax.html)"
   ]
  },
  {
   "cell_type": "code",
   "execution_count": null,
   "id": "0d914739",
   "metadata": {},
   "outputs": [],
   "source": []
  },
  {
   "cell_type": "markdown",
   "id": "b5e05d91",
   "metadata": {},
   "source": [
    "#### Ejercicio 7:¿Cuál es el promedio de puntuación en IMDb de los títulos agrupados por país?"
   ]
  },
  {
   "cell_type": "code",
   "execution_count": null,
   "id": "51c46210",
   "metadata": {},
   "outputs": [],
   "source": []
  },
  {
   "cell_type": "markdown",
   "id": "43634c81",
   "metadata": {},
   "source": [
    "#### Ejercicio 8: ¿Cuántos títulos fueron lanzados en cada año agrupados por tipo ('Movie' o 'TV Show')?"
   ]
  },
  {
   "cell_type": "code",
   "execution_count": null,
   "id": "d14840b1",
   "metadata": {},
   "outputs": [],
   "source": []
  },
  {
   "cell_type": "markdown",
   "id": "4fc8e1d3",
   "metadata": {},
   "source": [
    "#### Ejercicio 9: ¿Cuál es el país con la mayor cantidad de títulos de clasificación 'TV-MA'?"
   ]
  },
  {
   "cell_type": "code",
   "execution_count": null,
   "id": "a9a2d175",
   "metadata": {},
   "outputs": [],
   "source": []
  },
  {
   "cell_type": "markdown",
   "id": "f1121ccd",
   "metadata": {},
   "source": [
    "#### Ejercicio 10. ¿Cuál es el promedio de duración de las películas agrupadas por país?"
   ]
  },
  {
   "cell_type": "code",
   "execution_count": null,
   "id": "06491396",
   "metadata": {},
   "outputs": [],
   "source": []
  },
  {
   "cell_type": "markdown",
   "id": "0f3ee373",
   "metadata": {},
   "source": [
    "#### Ejercicio 11: ¿Cuál es el número total de títulos por país y clasificación de audiencia ('rating')?"
   ]
  },
  {
   "cell_type": "code",
   "execution_count": null,
   "id": "8fe17c56",
   "metadata": {},
   "outputs": [],
   "source": []
  },
  {
   "cell_type": "markdown",
   "id": "e968d41f",
   "metadata": {},
   "source": [
    "#### Ejercicio 12: ¿Cuántos títulos fueron lanzados antes del año 2000 agrupados por país?"
   ]
  },
  {
   "cell_type": "code",
   "execution_count": null,
   "id": "09e77e41",
   "metadata": {},
   "outputs": [],
   "source": []
  },
  {
   "cell_type": "markdown",
   "id": "3feff0de",
   "metadata": {},
   "source": [
    "#### Ejercicio 13: ¿Cuál es la puntuación promedio en IMDb de los títulos lanzados en 2021 agrupados por país?"
   ]
  },
  {
   "cell_type": "code",
   "execution_count": null,
   "id": "06e047e9",
   "metadata": {},
   "outputs": [],
   "source": []
  },
  {
   "cell_type": "markdown",
   "id": "b598a9ee",
   "metadata": {},
   "source": [
    "#### Ejercicio 14: ¿Cuántos títulos fueron dirigidos por cada director? Ordena los resultados de mayor a menor"
   ]
  },
  {
   "cell_type": "code",
   "execution_count": null,
   "id": "a36c5d63",
   "metadata": {},
   "outputs": [],
   "source": []
  },
  {
   "cell_type": "markdown",
   "id": "1471f841",
   "metadata": {},
   "source": [
    "#### Ejercicio 15: ¿Cuál es el lenguaje más frecuente en los títulos lanzados en los últimos 5 años agrupado por país?"
   ]
  },
  {
   "cell_type": "code",
   "execution_count": null,
   "id": "57446c34",
   "metadata": {},
   "outputs": [],
   "source": []
  },
  {
   "cell_type": "code",
   "execution_count": null,
   "id": "15f51fe1",
   "metadata": {},
   "outputs": [],
   "source": []
  }
 ],
 "metadata": {
  "kernelspec": {
   "display_name": "Python 3",
   "language": "python",
   "name": "python3"
  },
  "language_info": {
   "codemirror_mode": {
    "name": "ipython",
    "version": 3
   },
   "file_extension": ".py",
   "mimetype": "text/x-python",
   "name": "python",
   "nbconvert_exporter": "python",
   "pygments_lexer": "ipython3",
   "version": "3.12.6"
  }
 },
 "nbformat": 4,
 "nbformat_minor": 5
}
